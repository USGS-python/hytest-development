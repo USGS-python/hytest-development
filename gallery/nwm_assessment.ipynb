{
 "cells": [
  {
   "cell_type": "markdown",
   "id": "fc211372-d1a5-478a-8f2e-22c75052b851",
   "metadata": {},
   "source": [
    "# National Water Model Reanalysis v2.1 Assessment\n",
    "* The National Water Model Reanalysis v2.1 is available as a Zarr dataset on AWS Public Dataset on us-east-1. \n",
    "* For speed we use a derivative rechunked product created by James McCreight where each chunk is a full time series at a feature_id\n",
    "* Extract data at benchmark locations for assessment compared to observed streamflow. \n",
    "* Average hourly NWM data to daily\n",
    "* interpolate obs and data onto time base\n",
    "* use xskillscore to compare"
   ]
  },
  {
   "cell_type": "code",
   "execution_count": null,
   "id": "5021b65c-d237-4a1c-8127-38685a1a187f",
   "metadata": {},
   "outputs": [],
   "source": [
    "import pandas as pd\n",
    "import xarray as xr\n",
    "import fsspec\n",
    "import hvplot.xarray\n",
    "import cf_xarray\n",
    "import cf_xarray.units  # must be imported before pint_xarray\n",
    "import pint_xarray\n",
    "from pint_xarray import unit_registry as ureg\n",
    "import xskillscore as xs\n",
    "from pathlib import Path"
   ]
  },
  {
   "cell_type": "markdown",
   "id": "c00451dd-0872-46bb-8dd3-ac27863b8765",
   "metadata": {},
   "source": [
    "#### Open CSV file with obs info from Sydney Foks"
   ]
  },
  {
   "cell_type": "code",
   "execution_count": null,
   "id": "6780bc1b-1536-41d2-ba29-79b72cb8c680",
   "metadata": {},
   "outputs": [],
   "source": [
    "fs = fsspec.filesystem('s3', anon=True)"
   ]
  },
  {
   "cell_type": "code",
   "execution_count": null,
   "id": "d58be838-ee05-4937-890f-9c5ca417511b",
   "metadata": {},
   "outputs": [],
   "source": [
    "url = 's3://esip-qhub-public/usgs/hytest/streamflow_benchmark_sites_v09.csv'"
   ]
  },
  {
   "cell_type": "code",
   "execution_count": null,
   "id": "662ca3bb-8df5-4fd2-a744-83ea24dbe841",
   "metadata": {},
   "outputs": [],
   "source": [
    "fs.size(url)"
   ]
  },
  {
   "cell_type": "code",
   "execution_count": null,
   "id": "956826fa-709a-4ac0-83c7-1b44807603c3",
   "metadata": {},
   "outputs": [],
   "source": [
    "df = pd.read_csv(fs.open(url), dtype={'site_no':str, 'huc_cd':str, 'reachcode':str, 'comid':str})"
   ]
  },
  {
   "cell_type": "code",
   "execution_count": null,
   "id": "4653e281-eac6-4eb7-97f6-495586c85c4b",
   "metadata": {},
   "outputs": [],
   "source": [
    "df.info()"
   ]
  },
  {
   "cell_type": "code",
   "execution_count": null,
   "id": "20e01598-01a0-4297-8bd0-605a8634ea72",
   "metadata": {},
   "outputs": [],
   "source": [
    "df_test = df.head()"
   ]
  },
  {
   "cell_type": "code",
   "execution_count": null,
   "id": "3deae85b-ed23-4e10-be23-5ee355e854a3",
   "metadata": {},
   "outputs": [],
   "source": [
    "df_test"
   ]
  },
  {
   "cell_type": "markdown",
   "id": "0b47fb82-7ebe-4a7f-b398-9ae657b87e3d",
   "metadata": {},
   "source": [
    "#### pick some sites"
   ]
  },
  {
   "cell_type": "code",
   "execution_count": null,
   "id": "37c3470b-3b62-45c3-82c6-2feac2c518d2",
   "metadata": {},
   "outputs": [],
   "source": [
    "site_ids = list(df_test['site_no'].values)\n",
    "site_ids"
   ]
  },
  {
   "cell_type": "markdown",
   "id": "202cea3d-16c8-4a02-b2eb-ff3fa522bc2a",
   "metadata": {},
   "source": [
    "#### pick a time period"
   ]
  },
  {
   "cell_type": "code",
   "execution_count": null,
   "id": "598159eb-8aba-469c-bf7e-eb86cb035dab",
   "metadata": {},
   "outputs": [],
   "source": [
    "start = '1995-01-01'\n",
    "stop = '1995-12-19'"
   ]
  },
  {
   "cell_type": "code",
   "execution_count": null,
   "id": "0bc3e573-2402-4d4c-9726-73908334c81b",
   "metadata": {},
   "outputs": [],
   "source": [
    "#National Water Model\n",
    "url = 's3://noaa-nwm-retrospective-2-1-zarr-pds'"
   ]
  },
  {
   "cell_type": "code",
   "execution_count": null,
   "id": "87e7bd99-b038-437c-a6b8-7fb1ee5c01dd",
   "metadata": {},
   "outputs": [],
   "source": [
    "flist = fs.ls(url)\n",
    "flist"
   ]
  },
  {
   "cell_type": "code",
   "execution_count": null,
   "id": "270e09ea-f83f-4b61-8078-acd15163b7a5",
   "metadata": {},
   "outputs": [],
   "source": [
    "%%time\n",
    "ds = xr.open_dataset(fs.get_mapper(flist[0]), engine='zarr', backend_kwargs={'consolidated':True}, chunks={})"
   ]
  },
  {
   "cell_type": "code",
   "execution_count": null,
   "id": "68ee98d0-5f40-46e4-8e4a-8a5c82985245",
   "metadata": {},
   "outputs": [],
   "source": [
    "ds"
   ]
  },
  {
   "cell_type": "code",
   "execution_count": null,
   "id": "7e1a6671-68b2-4bc8-85d1-20fb1e942ff2",
   "metadata": {},
   "outputs": [],
   "source": [
    "ds.streamflow"
   ]
  },
  {
   "cell_type": "markdown",
   "id": "e48e727e-1d92-4b40-9fd5-ba0ef8498e1c",
   "metadata": {},
   "source": [
    "#### Use a rechunked timeseries datasets to speed things up\n",
    "We could extract time series using the above zarr dataset, but it would be a bit slow, as many chunks would need to be read for each time series extraction.   Instead, we use another dataset created by James McCreight at NCAR, which rechunked just the streamflow and velocity data at the 5000 gauge locations and rechunked them so that each time series is a single chunk"
   ]
  },
  {
   "cell_type": "code",
   "execution_count": null,
   "id": "5c8ffea2-3b3b-43c2-8f4f-bed85e895c24",
   "metadata": {},
   "outputs": [],
   "source": [
    "fs2 = fsspec.filesystem('s3', requester_pays=True, profile='esip-qhub')"
   ]
  },
  {
   "cell_type": "code",
   "execution_count": null,
   "id": "1df576b7-582d-49f7-bd6e-3d6eee3464c3",
   "metadata": {},
   "outputs": [],
   "source": [
    "fs2.ls('s3://esip-qhub/ncar/nwm')"
   ]
  },
  {
   "cell_type": "code",
   "execution_count": null,
   "id": "45a9b0dd-3967-4382-ba88-f658ebd5e006",
   "metadata": {},
   "outputs": [],
   "source": [
    "url = 's3://esip-qhub/ncar/nwm/chanobs.zarr'"
   ]
  },
  {
   "cell_type": "code",
   "execution_count": null,
   "id": "0981727a-b8e8-4aa9-8751-bb8d2049db35",
   "metadata": {},
   "outputs": [],
   "source": [
    "ds_chanobs = xr.open_dataset(fs2.get_mapper(url), engine='zarr', backend_kwargs={'consolidated':False}, chunks={})"
   ]
  },
  {
   "cell_type": "code",
   "execution_count": null,
   "id": "005feed4-a9d8-4be5-9444-2aea271c312d",
   "metadata": {},
   "outputs": [],
   "source": [
    "ds_chanobs.nbytes/1e9"
   ]
  },
  {
   "cell_type": "code",
   "execution_count": null,
   "id": "7e414784-c1bf-4413-8833-825e3f44c11a",
   "metadata": {},
   "outputs": [],
   "source": [
    "ds_chanobs"
   ]
  },
  {
   "cell_type": "code",
   "execution_count": null,
   "id": "aab90b6f-3491-4559-925f-db43f861254c",
   "metadata": {},
   "outputs": [],
   "source": [
    "ds_chanobs.streamflow"
   ]
  },
  {
   "cell_type": "code",
   "execution_count": null,
   "id": "e1965f99-c344-4959-b697-0658141f2ef2",
   "metadata": {},
   "outputs": [],
   "source": [
    "def mod_station(ds, site_id):\n",
    "    ds_sta = ds.where(ds.gage_id == f'{site_id.rjust(15, \" \")}'.encode(), drop=True)\n",
    "    return ds_sta"
   ]
  },
  {
   "cell_type": "code",
   "execution_count": null,
   "id": "d195ec8e-8609-48b5-b013-9bda8599367d",
   "metadata": {},
   "outputs": [],
   "source": [
    "%%time \n",
    "mod = []\n",
    "for site_id in site_ids:\n",
    "    mod.append(mod_station(ds_chanobs, site_id))"
   ]
  },
  {
   "cell_type": "code",
   "execution_count": null,
   "id": "50b04e0f-a40f-42c7-a3ae-5f2643940ef3",
   "metadata": {},
   "outputs": [],
   "source": [
    "ds_mod = xr.concat(mod, dim='feature_id')"
   ]
  },
  {
   "cell_type": "code",
   "execution_count": null,
   "id": "e2f6bdd0-e2de-46f4-a763-54495edec562",
   "metadata": {},
   "outputs": [],
   "source": [
    "ds_mod = ds_mod.rename({'streamflow':'discharge', 'feature_id':'station_id'})"
   ]
  },
  {
   "cell_type": "markdown",
   "id": "461593ba-cb2b-4c82-a14f-73d72ae6a068",
   "metadata": {},
   "source": [
    "#### Extract obs data using hyriver"
   ]
  },
  {
   "cell_type": "code",
   "execution_count": null,
   "id": "11ec05b0-7709-41b6-9acf-9757fcfc5a35",
   "metadata": {},
   "outputs": [],
   "source": [
    "from pygeohydro import NWIS"
   ]
  },
  {
   "cell_type": "code",
   "execution_count": null,
   "id": "0585b6dc-b667-4f25-a63b-55347d65b850",
   "metadata": {},
   "outputs": [],
   "source": [
    "nwis = NWIS()"
   ]
  },
  {
   "cell_type": "code",
   "execution_count": null,
   "id": "5598c132-e987-4a84-9a05-733a09f649c9",
   "metadata": {
    "tags": []
   },
   "outputs": [],
   "source": [
    "start = ds_mod.time[0].values\n",
    "stop = ds_mod.time[-1].values"
   ]
  },
  {
   "cell_type": "code",
   "execution_count": null,
   "id": "be3b92ae-dcd8-43f2-88e2-5d1ae1324c94",
   "metadata": {},
   "outputs": [],
   "source": [
    "dates = (start, stop)\n",
    "dates"
   ]
  },
  {
   "cell_type": "code",
   "execution_count": null,
   "id": "55f6e78a-fb7b-4ea7-bae7-dd0fbd16bd3e",
   "metadata": {},
   "outputs": [],
   "source": [
    "# if changing start,stop time or number of stations, remove the NWIS netcdf file\n",
    "# fs_local = fsspec.filesystem('file')\n",
    "#fs_local.rm('nwis.nc')"
   ]
  },
  {
   "cell_type": "code",
   "execution_count": null,
   "id": "9aadd650-f1ff-4f21-9c2e-ce5d92bc54b4",
   "metadata": {},
   "outputs": [],
   "source": [
    "%%time\n",
    "ncfile = 'nwis.nc'\n",
    "\n",
    "nc_file = Path(ncfile)\n",
    "\n",
    "if nc_file.is_file():\n",
    "    ds_obs = xr.open_dataset(ncfile)\n",
    "else:\n",
    "    ds_obs = nwis.get_streamflow(site_ids, dates, to_xarray=True)\n",
    "    ds_obs.to_netcdf(ncfile) "
   ]
  },
  {
   "cell_type": "markdown",
   "id": "9af9440c-931a-406d-b5f1-940aaa59b2a9",
   "metadata": {},
   "source": [
    "#### loop over stations"
   ]
  },
  {
   "cell_type": "code",
   "execution_count": null,
   "id": "f686d4af-496a-4ce6-aa19-e6f6bc447cc0",
   "metadata": {},
   "outputs": [],
   "source": [
    "start = '1995-01-01'\n",
    "stop = '1995-05-01'"
   ]
  },
  {
   "cell_type": "code",
   "execution_count": null,
   "id": "debd5bb2-0dae-4767-8470-3ae6a2540ff2",
   "metadata": {},
   "outputs": [],
   "source": [
    "skill_time_range = pd.date_range('1995-01-01','1995-05-01',freq='1D')"
   ]
  },
  {
   "cell_type": "markdown",
   "id": "6fcdeb31-2936-41ba-80a6-3d3b7aa407fd",
   "metadata": {},
   "source": [
    "average hourly model output to daily before interpolation:"
   ]
  },
  {
   "cell_type": "code",
   "execution_count": null,
   "id": "c836a7d3-caf1-42cc-bc2d-42c0e53a899a",
   "metadata": {},
   "outputs": [],
   "source": [
    "%%time\n",
    "ds_mod_daily = (ds_mod['discharge'].\n",
    "    sel(time=slice(start,stop)).\n",
    "    resample(time='1D').mean().\n",
    "    interp(time=skill_time_range))"
   ]
  },
  {
   "cell_type": "markdown",
   "id": "21333eaf-b282-40fd-b49c-e96eb0e43520",
   "metadata": {},
   "source": [
    "Don't need to average daily obs to daily before interpolation:"
   ]
  },
  {
   "cell_type": "code",
   "execution_count": null,
   "id": "7218f173-e8e7-41c5-8935-f0d8af76ff68",
   "metadata": {},
   "outputs": [],
   "source": [
    "ds_obs_daily = ds_obs['discharge'].interp(time=skill_time_range)"
   ]
  },
  {
   "cell_type": "markdown",
   "id": "465781f4-1658-4dd7-bc88-1d8faf67c024",
   "metadata": {},
   "source": [
    "#### comparison plot at a specific site_id"
   ]
  },
  {
   "cell_type": "code",
   "execution_count": null,
   "id": "928ec56c-0b9a-4701-abff-6016beffccdd",
   "metadata": {},
   "outputs": [],
   "source": [
    "ds_mod_daily.isel(station_id=0)"
   ]
  },
  {
   "cell_type": "code",
   "execution_count": null,
   "id": "4d60996e-1a91-45f4-9a13-e3e4d4420eef",
   "metadata": {},
   "outputs": [],
   "source": [
    "def comp_plot(site_id):\n",
    "    obs = ds_obs_daily.sel(station_id=f'USGS-{site_id}')\n",
    "    mod = mod_station(ds_mod_daily, site_id)\n",
    "    plt = obs.hvplot(x='time',label='observed') * mod.hvplot(x='time', label='data')\n",
    "    display(plt.opts(show_grid=True))"
   ]
  },
  {
   "cell_type": "code",
   "execution_count": null,
   "id": "e337a282-13e5-4277-b32a-d373de55e822",
   "metadata": {},
   "outputs": [],
   "source": [
    "comp_plot(site_ids[0])"
   ]
  },
  {
   "cell_type": "markdown",
   "id": "20b19325-bcd4-4ae6-95f8-643b411dbce8",
   "metadata": {},
   "source": [
    "#### compute the pearson correlation using xskillscore\n",
    "\n",
    "Xskillscore has a large number of [deterministic](https://xskillscore.readthedocs.io/en/stable/quick-start.html#Deterministic-Metrics) and [probabalistic](https://xskillscore.readthedocs.io/en/stable/quick-start.html#Probabilistic-Metrics) metrics"
   ]
  },
  {
   "cell_type": "code",
   "execution_count": null,
   "id": "112e317b-cbdd-473e-a979-74f5ab6f4fb7",
   "metadata": {},
   "outputs": [],
   "source": [
    "r = xs.pearson_r(ds_obs_daily,ds_mod_daily, dim='time')"
   ]
  },
  {
   "cell_type": "code",
   "execution_count": null,
   "id": "3d005d17-7c86-4094-82e2-3f37058dc983",
   "metadata": {},
   "outputs": [],
   "source": [
    "r"
   ]
  },
  {
   "cell_type": "code",
   "execution_count": null,
   "id": "1e4dd12b-2117-4d73-bff8-51611b033a93",
   "metadata": {},
   "outputs": [],
   "source": []
  }
 ],
 "metadata": {
  "kernelspec": {
   "display_name": "Python [conda env:pangeo]",
   "language": "python",
   "name": "conda-env-pangeo-py"
  },
  "language_info": {
   "codemirror_mode": {
    "name": "ipython",
    "version": 3
   },
   "file_extension": ".py",
   "mimetype": "text/x-python",
   "name": "python",
   "nbconvert_exporter": "python",
   "pygments_lexer": "ipython3",
   "version": "3.9.10"
  },
  "widgets": {
   "application/vnd.jupyter.widget-state+json": {
    "state": {},
    "version_major": 2,
    "version_minor": 0
   }
  }
 },
 "nbformat": 4,
 "nbformat_minor": 5
}
